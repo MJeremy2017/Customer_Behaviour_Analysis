{
 "cells": [
  {
   "cell_type": "markdown",
   "metadata": {},
   "source": [
    "# TOP CUSTOMERS ANALYSIS 5%"
   ]
  },
  {
   "cell_type": "code",
   "execution_count": 2,
   "metadata": {
    "collapsed": false
   },
   "outputs": [],
   "source": [
    "top_cust_bet = read.csv('D:/R/TopCustomers/topCustomersBet.csv')\n",
    "top_cust_info = read.csv('D:/R/TopCustomers/topCustomersInfo.csv')"
   ]
  },
  {
   "cell_type": "markdown",
   "metadata": {},
   "source": [
    "## Get the age"
   ]
  },
  {
   "cell_type": "code",
   "execution_count": 3,
   "metadata": {
    "collapsed": false
   },
   "outputs": [
    {
     "name": "stdout",
     "output_type": "stream",
     "text": [
      "'data.frame':\t1190 obs. of  3 variables:\n",
      " $ accountno    : int  100213 100821 101278 101412 101801 100341 100961 101564 101590 101874 ...\n",
      " $ c.dateofbirth: Factor w/ 1131 levels \"1944-11-23 00:00:00.0\",..: 55 81 120 415 352 357 145 225 84 228 ...\n",
      " $ c.gender     : Factor w/ 2 levels \"F\",\"M\": 2 2 2 2 2 2 2 2 2 2 ...\n"
     ]
    }
   ],
   "source": [
    "str(top_cust_info)"
   ]
  },
  {
   "cell_type": "code",
   "execution_count": 4,
   "metadata": {
    "collapsed": false
   },
   "outputs": [
    {
     "data": {
      "text/html": [
       "<table>\n",
       "<thead><tr><th scope=col>accountno</th><th scope=col>c.dateofbirth</th><th scope=col>c.gender</th></tr></thead>\n",
       "<tbody>\n",
       "\t<tr><td>100213               </td><td>1960-11-08 00:00:00.0</td><td>M                    </td></tr>\n",
       "\t<tr><td>100821               </td><td>1962-04-03 00:00:00.0</td><td>M                    </td></tr>\n",
       "\t<tr><td>101278               </td><td>1964-05-12 00:00:00.0</td><td>M                    </td></tr>\n",
       "\t<tr><td>101412               </td><td>1974-11-07 00:00:00.0</td><td>M                    </td></tr>\n",
       "\t<tr><td>101801               </td><td>1972-10-05 00:00:00.0</td><td>M                    </td></tr>\n",
       "\t<tr><td>100341               </td><td>1972-11-29 00:00:00.0</td><td>M                    </td></tr>\n",
       "</tbody>\n",
       "</table>\n"
      ],
      "text/latex": [
       "\\begin{tabular}{r|lll}\n",
       " accountno & c.dateofbirth & c.gender\\\\\n",
       "\\hline\n",
       "\t 100213                & 1960-11-08 00:00:00.0 & M                    \\\\\n",
       "\t 100821                & 1962-04-03 00:00:00.0 & M                    \\\\\n",
       "\t 101278                & 1964-05-12 00:00:00.0 & M                    \\\\\n",
       "\t 101412                & 1974-11-07 00:00:00.0 & M                    \\\\\n",
       "\t 101801                & 1972-10-05 00:00:00.0 & M                    \\\\\n",
       "\t 100341                & 1972-11-29 00:00:00.0 & M                    \\\\\n",
       "\\end{tabular}\n"
      ],
      "text/markdown": [
       "\n",
       "accountno | c.dateofbirth | c.gender | \n",
       "|---|---|---|---|---|---|\n",
       "| 100213                | 1960-11-08 00:00:00.0 | M                     | \n",
       "| 100821                | 1962-04-03 00:00:00.0 | M                     | \n",
       "| 101278                | 1964-05-12 00:00:00.0 | M                     | \n",
       "| 101412                | 1974-11-07 00:00:00.0 | M                     | \n",
       "| 101801                | 1972-10-05 00:00:00.0 | M                     | \n",
       "| 100341                | 1972-11-29 00:00:00.0 | M                     | \n",
       "\n",
       "\n"
      ],
      "text/plain": [
       "  accountno c.dateofbirth         c.gender\n",
       "1 100213    1960-11-08 00:00:00.0 M       \n",
       "2 100821    1962-04-03 00:00:00.0 M       \n",
       "3 101278    1964-05-12 00:00:00.0 M       \n",
       "4 101412    1974-11-07 00:00:00.0 M       \n",
       "5 101801    1972-10-05 00:00:00.0 M       \n",
       "6 100341    1972-11-29 00:00:00.0 M       "
      ]
     },
     "metadata": {},
     "output_type": "display_data"
    }
   ],
   "source": [
    "head(top_cust_info)"
   ]
  },
  {
   "cell_type": "code",
   "execution_count": 5,
   "metadata": {
    "collapsed": true
   },
   "outputs": [],
   "source": [
    "top_cust_info$year = format(as.Date(top_cust_info$c.dateofbirth, format = '%Y-%m-%d'),'%Y')"
   ]
  },
  {
   "cell_type": "code",
   "execution_count": 6,
   "metadata": {
    "collapsed": false
   },
   "outputs": [
    {
     "data": {
      "text/html": [
       "<table>\n",
       "<thead><tr><th scope=col>accountno</th><th scope=col>c.dateofbirth</th><th scope=col>c.gender</th><th scope=col>year</th></tr></thead>\n",
       "<tbody>\n",
       "\t<tr><td>100213               </td><td>1960-11-08 00:00:00.0</td><td>M                    </td><td>1960                 </td></tr>\n",
       "\t<tr><td>100821               </td><td>1962-04-03 00:00:00.0</td><td>M                    </td><td>1962                 </td></tr>\n",
       "\t<tr><td>101278               </td><td>1964-05-12 00:00:00.0</td><td>M                    </td><td>1964                 </td></tr>\n",
       "\t<tr><td>101412               </td><td>1974-11-07 00:00:00.0</td><td>M                    </td><td>1974                 </td></tr>\n",
       "\t<tr><td>101801               </td><td>1972-10-05 00:00:00.0</td><td>M                    </td><td>1972                 </td></tr>\n",
       "\t<tr><td>100341               </td><td>1972-11-29 00:00:00.0</td><td>M                    </td><td>1972                 </td></tr>\n",
       "</tbody>\n",
       "</table>\n"
      ],
      "text/latex": [
       "\\begin{tabular}{r|llll}\n",
       " accountno & c.dateofbirth & c.gender & year\\\\\n",
       "\\hline\n",
       "\t 100213                & 1960-11-08 00:00:00.0 & M                     & 1960                 \\\\\n",
       "\t 100821                & 1962-04-03 00:00:00.0 & M                     & 1962                 \\\\\n",
       "\t 101278                & 1964-05-12 00:00:00.0 & M                     & 1964                 \\\\\n",
       "\t 101412                & 1974-11-07 00:00:00.0 & M                     & 1974                 \\\\\n",
       "\t 101801                & 1972-10-05 00:00:00.0 & M                     & 1972                 \\\\\n",
       "\t 100341                & 1972-11-29 00:00:00.0 & M                     & 1972                 \\\\\n",
       "\\end{tabular}\n"
      ],
      "text/markdown": [
       "\n",
       "accountno | c.dateofbirth | c.gender | year | \n",
       "|---|---|---|---|---|---|\n",
       "| 100213                | 1960-11-08 00:00:00.0 | M                     | 1960                  | \n",
       "| 100821                | 1962-04-03 00:00:00.0 | M                     | 1962                  | \n",
       "| 101278                | 1964-05-12 00:00:00.0 | M                     | 1964                  | \n",
       "| 101412                | 1974-11-07 00:00:00.0 | M                     | 1974                  | \n",
       "| 101801                | 1972-10-05 00:00:00.0 | M                     | 1972                  | \n",
       "| 100341                | 1972-11-29 00:00:00.0 | M                     | 1972                  | \n",
       "\n",
       "\n"
      ],
      "text/plain": [
       "  accountno c.dateofbirth         c.gender year\n",
       "1 100213    1960-11-08 00:00:00.0 M        1960\n",
       "2 100821    1962-04-03 00:00:00.0 M        1962\n",
       "3 101278    1964-05-12 00:00:00.0 M        1964\n",
       "4 101412    1974-11-07 00:00:00.0 M        1974\n",
       "5 101801    1972-10-05 00:00:00.0 M        1972\n",
       "6 100341    1972-11-29 00:00:00.0 M        1972"
      ]
     },
     "metadata": {},
     "output_type": "display_data"
    }
   ],
   "source": [
    "head(top_cust_info)"
   ]
  },
  {
   "cell_type": "code",
   "execution_count": 7,
   "metadata": {
    "collapsed": true
   },
   "outputs": [],
   "source": [
    "top_cust_info$age = 2018 - as.numeric(top_cust_info$year)"
   ]
  },
  {
   "cell_type": "markdown",
   "metadata": {},
   "source": [
    "## Plots"
   ]
  },
  {
   "cell_type": "markdown",
   "metadata": {},
   "source": [
    "### get the distribution first"
   ]
  },
  {
   "cell_type": "code",
   "execution_count": 10,
   "metadata": {
    "collapsed": false
   },
   "outputs": [],
   "source": [
    "library(ggplot2)"
   ]
  },
  {
   "cell_type": "code",
   "execution_count": 11,
   "metadata": {
    "collapsed": false
   },
   "outputs": [
    {
     "data": {
      "text/plain": [
       "   Min. 1st Qu.  Median    Mean 3rd Qu.    Max. \n",
       "   23.0    34.0    40.0    41.2    47.0    74.0 "
      ]
     },
     "metadata": {},
     "output_type": "display_data"
    }
   ],
   "source": [
    "summary(top_cust_info$age)"
   ]
  },
  {
   "cell_type": "code",
   "execution_count": 12,
   "metadata": {
    "collapsed": false
   },
   "outputs": [
    {
     "data": {
      "text/plain": [
       "\n",
       "23 24 25 26 27 28 29 30 31 32 33 34 35 36 37 38 39 40 41 42 43 44 45 46 47 48 \n",
       " 2  9 12 11 16 27 28 43 24 33 49 48 59 60 54 50 45 44 49 35 47 38 29 52 33 35 \n",
       "49 50 51 52 53 54 55 56 57 58 59 60 61 62 63 64 65 66 68 73 74 \n",
       "30 33 27 17 18 15 23 21 17 11  7  5  4  4  5  7  4  5  3  1  1 "
      ]
     },
     "metadata": {},
     "output_type": "display_data"
    }
   ],
   "source": [
    "table(top_cust_info$age)"
   ]
  },
  {
   "cell_type": "code",
   "execution_count": 13,
   "metadata": {
    "collapsed": false
   },
   "outputs": [
    {
     "data": {},
     "metadata": {},
     "output_type": "display_data"
    },
    {
     "data": {
      "image/png": "[encoded data removed]",
      "text/plain": [
       "plot without title"
      ]
     },
     "metadata": {},
     "output_type": "display_data"
    }
   ],
   "source": [
    "ggplot(top_cust_info, aes(age)) +\n",
    "  geom_histogram(fill = 'lightblue', color = 'black', binwidth = 3) +\n",
    "  theme_bw()"
   ]
  },
  {
   "cell_type": "code",
   "execution_count": 14,
   "metadata": {
    "collapsed": false
   },
   "outputs": [
    {
     "data": {
      "text/plain": [
       "\n",
       "   F    M \n",
       "  47 1143 "
      ]
     },
     "metadata": {},
     "output_type": "display_data"
    }
   ],
   "source": [
    "table(top_cust_info$c.gender)"
   ]
  },
  {
   "cell_type": "code",
   "execution_count": 15,
   "metadata": {
    "collapsed": false
   },
   "outputs": [
    {
     "data": {},
     "metadata": {},
     "output_type": "display_data"
    },
    {
     "data": {
      "image/png": "[encoded data removed]",
      "text/plain": [
       "plot without title"
      ]
     },
     "metadata": {},
     "output_type": "display_data"
    }
   ],
   "source": [
    "ggplot(top_cust_info, aes(top_cust_info$c.gender)) +\n",
    "  geom_bar(aes(fill = top_cust_info$c.gender)) +\n",
    "  theme_bw()"
   ]
  },
  {
   "cell_type": "markdown",
   "metadata": {},
   "source": [
    "## Let's check their betting behaviour"
   ]
  },
  {
   "cell_type": "code",
   "execution_count": 16,
   "metadata": {
    "collapsed": false
   },
   "outputs": [
    {
     "data": {
      "text/html": [
       "<table>\n",
       "<thead><tr><th scope=col>a.accountno</th><th scope=col>bet_type</th><th scope=col>a.oddsselected</th><th scope=col>time</th><th scope=col>a.betamount</th></tr></thead>\n",
       "<tbody>\n",
       "\t<tr><td>10584614              </td><td>Team to Score 1st Goal</td><td>2.50                  </td><td>04/12/2016            </td><td>300                   </td></tr>\n",
       "\t<tr><td>10486770              </td><td>Team to Score 2nd Goal</td><td>2.70                  </td><td>05/12/2016            </td><td>204                   </td></tr>\n",
       "\t<tr><td>  123780              </td><td>Team to Score 2nd Goal</td><td>3.50                  </td><td>05/12/2016            </td><td>500                   </td></tr>\n",
       "\t<tr><td>10495617              </td><td>Team to Score 2nd Goal</td><td>4.10                  </td><td>05/12/2016            </td><td> 30                   </td></tr>\n",
       "\t<tr><td>10486926              </td><td>Total Goals Odd/Even  </td><td>1.37                  </td><td>05/12/2016            </td><td> 20                   </td></tr>\n",
       "\t<tr><td> 9865986              </td><td>Team to Score 2nd Goal</td><td>2.90                  </td><td>05/12/2016            </td><td>100                   </td></tr>\n",
       "</tbody>\n",
       "</table>\n"
      ],
      "text/latex": [
       "\\begin{tabular}{r|lllll}\n",
       " a.accountno & bet\\_type & a.oddsselected & time & a.betamount\\\\\n",
       "\\hline\n",
       "\t 10584614               & Team to Score 1st Goal & 2.50                   & 04/12/2016             & 300                   \\\\\n",
       "\t 10486770               & Team to Score 2nd Goal & 2.70                   & 05/12/2016             & 204                   \\\\\n",
       "\t   123780               & Team to Score 2nd Goal & 3.50                   & 05/12/2016             & 500                   \\\\\n",
       "\t 10495617               & Team to Score 2nd Goal & 4.10                   & 05/12/2016             &  30                   \\\\\n",
       "\t 10486926               & Total Goals Odd/Even   & 1.37                   & 05/12/2016             &  20                   \\\\\n",
       "\t  9865986               & Team to Score 2nd Goal & 2.90                   & 05/12/2016             & 100                   \\\\\n",
       "\\end{tabular}\n"
      ],
      "text/markdown": [
       "\n",
       "a.accountno | bet_type | a.oddsselected | time | a.betamount | \n",
       "|---|---|---|---|---|---|\n",
       "| 10584614               | Team to Score 1st Goal | 2.50                   | 04/12/2016             | 300                    | \n",
       "| 10486770               | Team to Score 2nd Goal | 2.70                   | 05/12/2016             | 204                    | \n",
       "|   123780               | Team to Score 2nd Goal | 3.50                   | 05/12/2016             | 500                    | \n",
       "| 10495617               | Team to Score 2nd Goal | 4.10                   | 05/12/2016             |  30                    | \n",
       "| 10486926               | Total Goals Odd/Even   | 1.37                   | 05/12/2016             |  20                    | \n",
       "|  9865986               | Team to Score 2nd Goal | 2.90                   | 05/12/2016             | 100                    | \n",
       "\n",
       "\n"
      ],
      "text/plain": [
       "  a.accountno bet_type               a.oddsselected time       a.betamount\n",
       "1 10584614    Team to Score 1st Goal 2.50           04/12/2016 300        \n",
       "2 10486770    Team to Score 2nd Goal 2.70           05/12/2016 204        \n",
       "3   123780    Team to Score 2nd Goal 3.50           05/12/2016 500        \n",
       "4 10495617    Team to Score 2nd Goal 4.10           05/12/2016  30        \n",
       "5 10486926    Total Goals Odd/Even   1.37           05/12/2016  20        \n",
       "6  9865986    Team to Score 2nd Goal 2.90           05/12/2016 100        "
      ]
     },
     "metadata": {},
     "output_type": "display_data"
    }
   ],
   "source": [
    "head(top_cust_bet)"
   ]
  },
  {
   "cell_type": "markdown",
   "metadata": {},
   "source": [
    "### the correlation of their odds and bet amount"
   ]
  },
  {
   "cell_type": "code",
   "execution_count": 17,
   "metadata": {
    "collapsed": false
   },
   "outputs": [
    {
     "data": {
      "text/html": [
       "-0.28368471784746"
      ],
      "text/latex": [
       "-0.28368471784746"
      ],
      "text/markdown": [
       "-0.28368471784746"
      ],
      "text/plain": [
       "[1] -0.2836847"
      ]
     },
     "metadata": {},
     "output_type": "display_data"
    }
   ],
   "source": [
    "cor(top_cust_bet$a.oddsselected, log(top_cust_bet$a.betamount))"
   ]
  },
  {
   "cell_type": "markdown",
   "metadata": {},
   "source": [
    "### get their average selected odds and average bet amount"
   ]
  },
  {
   "cell_type": "code",
   "execution_count": 18,
   "metadata": {
    "collapsed": false
   },
   "outputs": [
    {
     "name": "stderr",
     "output_type": "stream",
     "text": [
      "\n",
      "Attaching package: 'dplyr'\n",
      "\n",
      "The following objects are masked from 'package:stats':\n",
      "\n",
      "    filter, lag\n",
      "\n",
      "The following objects are masked from 'package:base':\n",
      "\n",
      "    intersect, setdiff, setequal, union\n",
      "\n"
     ]
    }
   ],
   "source": [
    "library(dplyr)\n",
    "\n",
    "avg_bet = top_cust_bet %>% group_by(a.accountno) %>% summarise(avg_odds = mean(a.oddsselected),\n",
    "                                                               avg_amount = mean(a.betamount))"
   ]
  },
  {
   "cell_type": "code",
   "execution_count": 19,
   "metadata": {
    "collapsed": false
   },
   "outputs": [
    {
     "data": {
      "text/html": [
       "<table>\n",
       "<thead><tr><th scope=col>a.accountno</th><th scope=col>avg_odds</th><th scope=col>avg_amount</th></tr></thead>\n",
       "<tbody>\n",
       "\t<tr><td>100122    </td><td> 2.125915 </td><td> 489.19615</td></tr>\n",
       "\t<tr><td>100171    </td><td> 5.013077 </td><td>1849.69231</td></tr>\n",
       "\t<tr><td>100183    </td><td>13.842246 </td><td>  78.66782</td></tr>\n",
       "\t<tr><td>100195    </td><td> 2.513343 </td><td> 188.91385</td></tr>\n",
       "\t<tr><td>100213    </td><td> 2.752117 </td><td> 126.63159</td></tr>\n",
       "\t<tr><td>100341    </td><td> 2.953558 </td><td> 210.51450</td></tr>\n",
       "</tbody>\n",
       "</table>\n"
      ],
      "text/latex": [
       "\\begin{tabular}{r|lll}\n",
       " a.accountno & avg\\_odds & avg\\_amount\\\\\n",
       "\\hline\n",
       "\t 100122     &  2.125915  &  489.19615\\\\\n",
       "\t 100171     &  5.013077  & 1849.69231\\\\\n",
       "\t 100183     & 13.842246  &   78.66782\\\\\n",
       "\t 100195     &  2.513343  &  188.91385\\\\\n",
       "\t 100213     &  2.752117  &  126.63159\\\\\n",
       "\t 100341     &  2.953558  &  210.51450\\\\\n",
       "\\end{tabular}\n"
      ],
      "text/markdown": [
       "\n",
       "a.accountno | avg_odds | avg_amount | \n",
       "|---|---|---|---|---|---|\n",
       "| 100122     |  2.125915  |  489.19615 | \n",
       "| 100171     |  5.013077  | 1849.69231 | \n",
       "| 100183     | 13.842246  |   78.66782 | \n",
       "| 100195     |  2.513343  |  188.91385 | \n",
       "| 100213     |  2.752117  |  126.63159 | \n",
       "| 100341     |  2.953558  |  210.51450 | \n",
       "\n",
       "\n"
      ],
      "text/plain": [
       "  a.accountno avg_odds  avg_amount\n",
       "1 100122       2.125915  489.19615\n",
       "2 100171       5.013077 1849.69231\n",
       "3 100183      13.842246   78.66782\n",
       "4 100195       2.513343  188.91385\n",
       "5 100213       2.752117  126.63159\n",
       "6 100341       2.953558  210.51450"
      ]
     },
     "metadata": {},
     "output_type": "display_data"
    }
   ],
   "source": [
    "head(avg_bet)"
   ]
  },
  {
   "cell_type": "code",
   "execution_count": 20,
   "metadata": {
    "collapsed": false
   },
   "outputs": [
    {
     "data": {},
     "metadata": {},
     "output_type": "display_data"
    },
    {
     "data": {
      "image/png": "[encoded data removed]",
      "text/plain": [
       "plot without title"
      ]
     },
     "metadata": {},
     "output_type": "display_data"
    }
   ],
   "source": [
    "ggplot(avg_bet, aes(avg_odds, avg_amount)) +\n",
    "  geom_point(color = 'steelblue', alpha = .5) +\n",
    "  theme_bw()"
   ]
  },
  {
   "cell_type": "markdown",
   "metadata": {},
   "source": [
    "### similar to the trend previous perceived"
   ]
  },
  {
   "cell_type": "code",
   "execution_count": 21,
   "metadata": {
    "collapsed": false
   },
   "outputs": [
    {
     "data": {},
     "metadata": {},
     "output_type": "display_data"
    },
    {
     "data": {
      "image/png": "[encoded data removed]",
      "text/plain": [
       "plot without title"
      ]
     },
     "metadata": {},
     "output_type": "display_data"
    }
   ],
   "source": [
    "ggplot(avg_bet, aes(avg_odds, log(avg_amount))) +\n",
    "  geom_point(color = 'steelblue', alpha = .5) +\n",
    "  theme_bw()"
   ]
  },
  {
   "cell_type": "markdown",
   "metadata": {},
   "source": [
    "## Detect the trend"
   ]
  },
  {
   "cell_type": "code",
   "execution_count": 23,
   "metadata": {
    "collapsed": false
   },
   "outputs": [],
   "source": [
    "top_cust_bet$time2 = as.Date(top_cust_bet$time, format = '%d/%m/%Y')\n",
    "\n",
    "total_bet_day = top_cust_bet %>% group_by(a.accountno, time2) %>% summarise(total_bet = sum(a.betamount),\n",
    "                                                                           avg_odds = mean(a.oddsselected))"
   ]
  },
  {
   "cell_type": "code",
   "execution_count": 28,
   "metadata": {
    "collapsed": false
   },
   "outputs": [
    {
     "data": {},
     "metadata": {},
     "output_type": "display_data"
    },
    {
     "data": {
      "image/png": "[encoded data removed]",
      "text/plain": [
       "plot without title"
      ]
     },
     "metadata": {},
     "output_type": "display_data"
    }
   ],
   "source": [
    "ggplot(total_bet_day, aes(time2, total_bet)) +\n",
    "  geom_line(aes(color = a.accountno)) +\n",
    "  scale_x_date(date_breaks = '3 month') +\n",
    "  theme_bw()"
   ]
  },
  {
   "cell_type": "code",
   "execution_count": 27,
   "metadata": {
    "collapsed": false
   },
   "outputs": [
    {
     "data": {},
     "metadata": {},
     "output_type": "display_data"
    },
    {
     "data": {
      "image/png": "[encoded data removed]",
      "text/plain": [
       "plot without title"
      ]
     },
     "metadata": {},
     "output_type": "display_data"
    }
   ],
   "source": [
    "ggplot(subset(total_bet_day, a.accountno == 100122), aes(time2, total_bet)) +\n",
    "  geom_line(color = 'red') +\n",
    "  scale_x_date(date_breaks = '3 month') +\n",
    "  theme_bw()\n",
    "# one customer's betting behaviour"
   ]
  },
  {
   "cell_type": "markdown",
   "metadata": {
    "collapsed": true
   },
   "source": [
    "## customers with their wining flag"
   ]
  },
  {
   "cell_type": "code",
   "execution_count": 1,
   "metadata": {
    "collapsed": false
   },
   "outputs": [
    {
     "name": "stderr",
     "output_type": "stream",
     "text": [
      "\n",
      "Attaching package: 'dplyr'\n",
      "\n",
      "The following objects are masked from 'package:stats':\n",
      "\n",
      "    filter, lag\n",
      "\n",
      "The following objects are masked from 'package:base':\n",
      "\n",
      "    intersect, setdiff, setequal, union\n",
      "\n"
     ]
    }
   ],
   "source": [
    "library(ggplot2)\n",
    "library(dplyr)"
   ]
  },
  {
   "cell_type": "code",
   "execution_count": 2,
   "metadata": {
    "collapsed": false
   },
   "outputs": [],
   "source": [
    "top_cust_bet = read.csv('D:/R/TopCustomers/topCustomer_latest.csv')\n",
    "top_cust_bet$time = as.Date(top_cust_bet$time, format = '%d/%m/%Y')"
   ]
  },
  {
   "cell_type": "code",
   "execution_count": 3,
   "metadata": {
    "collapsed": false
   },
   "outputs": [
    {
     "data": {
      "text/html": [
       "<table>\n",
       "<thead><tr><th scope=col>a.accountno</th><th scope=col>bet_type</th><th scope=col>a.oddsselected</th><th scope=col>time</th><th scope=col>a.betamount</th><th scope=col>a.validationamount</th></tr></thead>\n",
       "<tbody>\n",
       "\t<tr><td>10584614              </td><td>Team to Score 1st Goal</td><td>2.50                  </td><td>2016-12-04            </td><td>300                   </td><td>   0                  </td></tr>\n",
       "\t<tr><td>10486770              </td><td>Team to Score 2nd Goal</td><td>2.70                  </td><td>2016-12-05            </td><td>204                   </td><td>   0                  </td></tr>\n",
       "\t<tr><td>  123780              </td><td>Team to Score 2nd Goal</td><td>3.50                  </td><td>2016-12-05            </td><td>500                   </td><td>1750                  </td></tr>\n",
       "\t<tr><td>10495617              </td><td>Team to Score 2nd Goal</td><td>4.10                  </td><td>2016-12-05            </td><td> 30                   </td><td>   0                  </td></tr>\n",
       "\t<tr><td>10486926              </td><td>Total Goals Odd/Even  </td><td>1.37                  </td><td>2016-12-05            </td><td> 20                   </td><td>   0                  </td></tr>\n",
       "\t<tr><td> 9865986              </td><td>Team to Score 2nd Goal</td><td>2.90                  </td><td>2016-12-05            </td><td>100                   </td><td>   0                  </td></tr>\n",
       "</tbody>\n",
       "</table>\n"
      ],
      "text/latex": [
       "\\begin{tabular}{r|llllll}\n",
       " a.accountno & bet\\_type & a.oddsselected & time & a.betamount & a.validationamount\\\\\n",
       "\\hline\n",
       "\t 10584614               & Team to Score 1st Goal & 2.50                   & 2016-12-04             & 300                    &    0                  \\\\\n",
       "\t 10486770               & Team to Score 2nd Goal & 2.70                   & 2016-12-05             & 204                    &    0                  \\\\\n",
       "\t   123780               & Team to Score 2nd Goal & 3.50                   & 2016-12-05             & 500                    & 1750                  \\\\\n",
       "\t 10495617               & Team to Score 2nd Goal & 4.10                   & 2016-12-05             &  30                    &    0                  \\\\\n",
       "\t 10486926               & Total Goals Odd/Even   & 1.37                   & 2016-12-05             &  20                    &    0                  \\\\\n",
       "\t  9865986               & Team to Score 2nd Goal & 2.90                   & 2016-12-05             & 100                    &    0                  \\\\\n",
       "\\end{tabular}\n"
      ],
      "text/markdown": [
       "\n",
       "a.accountno | bet_type | a.oddsselected | time | a.betamount | a.validationamount | \n",
       "|---|---|---|---|---|---|\n",
       "| 10584614               | Team to Score 1st Goal | 2.50                   | 2016-12-04             | 300                    |    0                   | \n",
       "| 10486770               | Team to Score 2nd Goal | 2.70                   | 2016-12-05             | 204                    |    0                   | \n",
       "|   123780               | Team to Score 2nd Goal | 3.50                   | 2016-12-05             | 500                    | 1750                   | \n",
       "| 10495617               | Team to Score 2nd Goal | 4.10                   | 2016-12-05             |  30                    |    0                   | \n",
       "| 10486926               | Total Goals Odd/Even   | 1.37                   | 2016-12-05             |  20                    |    0                   | \n",
       "|  9865986               | Team to Score 2nd Goal | 2.90                   | 2016-12-05             | 100                    |    0                   | \n",
       "\n",
       "\n"
      ],
      "text/plain": [
       "  a.accountno bet_type               a.oddsselected time       a.betamount\n",
       "1 10584614    Team to Score 1st Goal 2.50           2016-12-04 300        \n",
       "2 10486770    Team to Score 2nd Goal 2.70           2016-12-05 204        \n",
       "3   123780    Team to Score 2nd Goal 3.50           2016-12-05 500        \n",
       "4 10495617    Team to Score 2nd Goal 4.10           2016-12-05  30        \n",
       "5 10486926    Total Goals Odd/Even   1.37           2016-12-05  20        \n",
       "6  9865986    Team to Score 2nd Goal 2.90           2016-12-05 100        \n",
       "  a.validationamount\n",
       "1    0              \n",
       "2    0              \n",
       "3 1750              \n",
       "4    0              \n",
       "5    0              \n",
       "6    0              "
      ]
     },
     "metadata": {},
     "output_type": "display_data"
    }
   ],
   "source": [
    "head(top_cust_bet)"
   ]
  },
  {
   "cell_type": "markdown",
   "metadata": {},
   "source": [
    "### bet against win"
   ]
  },
  {
   "cell_type": "code",
   "execution_count": 5,
   "metadata": {
    "collapsed": false
   },
   "outputs": [
    {
     "data": {},
     "metadata": {},
     "output_type": "display_data"
    },
    {
     "data": {
      "image/png": "[encoded data removed]",
      "text/plain": [
       "plot without title"
      ]
     },
     "metadata": {},
     "output_type": "display_data"
    }
   ],
   "source": [
    "ggplot(top_cust_bet[sample(nrow(top_cust_bet), 200000), ], aes(a.betamount, a.validationamount)) +\n",
    "  geom_point(alpha = 1/3)"
   ]
  },
  {
   "cell_type": "markdown",
   "metadata": {},
   "source": [
    "### how much they bet and how much they win each day per customer"
   ]
  },
  {
   "cell_type": "code",
   "execution_count": 4,
   "metadata": {
    "collapsed": false
   },
   "outputs": [
    {
     "data": {
      "text/html": [
       "<table>\n",
       "<thead><tr><th scope=col>a.accountno</th><th scope=col>time</th><th scope=col>stake_day</th><th scope=col>payout_day</th></tr></thead>\n",
       "<tbody>\n",
       "\t<tr><td>100122    </td><td>2016-10-25</td><td>300.0     </td><td>190.00    </td></tr>\n",
       "\t<tr><td>100122    </td><td>2016-10-26</td><td> 87.5     </td><td> 87.88    </td></tr>\n",
       "\t<tr><td>100122    </td><td>2016-10-27</td><td>235.0     </td><td>322.50    </td></tr>\n",
       "\t<tr><td>100122    </td><td>2016-10-28</td><td>150.0     </td><td>322.50    </td></tr>\n",
       "\t<tr><td>100122    </td><td>2016-10-29</td><td>311.5     </td><td>137.50    </td></tr>\n",
       "\t<tr><td>100122    </td><td>2016-10-30</td><td>147.0     </td><td>261.30    </td></tr>\n",
       "</tbody>\n",
       "</table>\n"
      ],
      "text/latex": [
       "\\begin{tabular}{r|llll}\n",
       " a.accountno & time & stake\\_day & payout\\_day\\\\\n",
       "\\hline\n",
       "\t 100122     & 2016-10-25 & 300.0      & 190.00    \\\\\n",
       "\t 100122     & 2016-10-26 &  87.5      &  87.88    \\\\\n",
       "\t 100122     & 2016-10-27 & 235.0      & 322.50    \\\\\n",
       "\t 100122     & 2016-10-28 & 150.0      & 322.50    \\\\\n",
       "\t 100122     & 2016-10-29 & 311.5      & 137.50    \\\\\n",
       "\t 100122     & 2016-10-30 & 147.0      & 261.30    \\\\\n",
       "\\end{tabular}\n"
      ],
      "text/markdown": [
       "\n",
       "a.accountno | time | stake_day | payout_day | \n",
       "|---|---|---|---|---|---|\n",
       "| 100122     | 2016-10-25 | 300.0      | 190.00     | \n",
       "| 100122     | 2016-10-26 |  87.5      |  87.88     | \n",
       "| 100122     | 2016-10-27 | 235.0      | 322.50     | \n",
       "| 100122     | 2016-10-28 | 150.0      | 322.50     | \n",
       "| 100122     | 2016-10-29 | 311.5      | 137.50     | \n",
       "| 100122     | 2016-10-30 | 147.0      | 261.30     | \n",
       "\n",
       "\n"
      ],
      "text/plain": [
       "  a.accountno time       stake_day payout_day\n",
       "1 100122      2016-10-25 300.0     190.00    \n",
       "2 100122      2016-10-26  87.5      87.88    \n",
       "3 100122      2016-10-27 235.0     322.50    \n",
       "4 100122      2016-10-28 150.0     322.50    \n",
       "5 100122      2016-10-29 311.5     137.50    \n",
       "6 100122      2016-10-30 147.0     261.30    "
      ]
     },
     "metadata": {},
     "output_type": "display_data"
    }
   ],
   "source": [
    "cust_payout = top_cust_bet %>% group_by(a.accountno, time) %>% summarise(stake_day = sum(a.betamount),\n",
    "                                                                         payout_day = sum(a.validationamount))\n",
    "head(cust_payout)"
   ]
  },
  {
   "cell_type": "markdown",
   "metadata": {},
   "source": [
    "### check the correlation"
   ]
  },
  {
   "cell_type": "code",
   "execution_count": 6,
   "metadata": {
    "collapsed": false
   },
   "outputs": [
    {
     "data": {
      "text/html": [
       "0.854150739021518"
      ],
      "text/latex": [
       "0.854150739021518"
      ],
      "text/markdown": [
       "0.854150739021518"
      ],
      "text/plain": [
       "[1] 0.8541507"
      ]
     },
     "metadata": {},
     "output_type": "display_data"
    }
   ],
   "source": [
    "cor(cust_payout$stake_day, cust_payout$payout_day)"
   ]
  },
  {
   "cell_type": "markdown",
   "metadata": {},
   "source": [
    "### payout ratio"
   ]
  },
  {
   "cell_type": "code",
   "execution_count": 16,
   "metadata": {
    "collapsed": false
   },
   "outputs": [
    {
     "data": {},
     "metadata": {},
     "output_type": "display_data"
    },
    {
     "data": {
      "image/png": "[encoded data removed]",
      "text/plain": [
       "plot without title"
      ]
     },
     "metadata": {},
     "output_type": "display_data"
    }
   ],
   "source": [
    "cust_payout$payout_ratio = (cust_payout$payout_day - cust_payout$stake_day)/cust_payout$stake_day\n",
    "\n",
    "ggplot(cust_payout, aes(stake_day, payout_ratio)) +\n",
    "  geom_point(alpha = 1/3) +\n",
    "  scale_x_continuous(labels = scales::comma) +\n",
    "  theme_bw()"
   ]
  },
  {
   "cell_type": "code",
   "execution_count": 17,
   "metadata": {
    "collapsed": false
   },
   "outputs": [
    {
     "data": {},
     "metadata": {},
     "output_type": "display_data"
    },
    {
     "data": {
      "image/png": "[encoded data removed]",
      "text/plain": [
       "plot without title"
      ]
     },
     "metadata": {},
     "output_type": "display_data"
    }
   ],
   "source": [
    "ggplot(cust_payout, aes(stake_day, payout_day)) +\n",
    "  geom_point(alpha = 1/3) +\n",
    "  theme_bw() +\n",
    "  geom_abline(intercept = 1, color = 'red', lty = 2) "
   ]
  },
  {
   "cell_type": "markdown",
   "metadata": {},
   "source": [
    "## Do they profit through the priod?"
   ]
  },
  {
   "cell_type": "code",
   "execution_count": 9,
   "metadata": {
    "collapsed": true
   },
   "outputs": [],
   "source": [
    "total_spent = cust_payout %>% group_by(a.accountno) %>% summarise(spent = sum(stake_day),\n",
    "                                                                  win = sum(payout_day))"
   ]
  },
  {
   "cell_type": "code",
   "execution_count": 10,
   "metadata": {
    "collapsed": true
   },
   "outputs": [],
   "source": [
    "total_spent$profit = total_spent$win - total_spent$spent"
   ]
  },
  {
   "cell_type": "code",
   "execution_count": 11,
   "metadata": {
    "collapsed": false
   },
   "outputs": [
    {
     "data": {
      "text/html": [
       "<table>\n",
       "<thead><tr><th scope=col>a.accountno</th><th scope=col>spent</th><th scope=col>win</th><th scope=col>profit</th></tr></thead>\n",
       "<tbody>\n",
       "\t<tr><td>100122    </td><td> 208397.56</td><td> 203185.50</td><td> -5212.06 </td></tr>\n",
       "\t<tr><td>100171    </td><td> 120230.00</td><td>  78570.00</td><td>-41660.00 </td></tr>\n",
       "\t<tr><td>100183    </td><td>  68991.68</td><td>  52839.85</td><td>-16151.83 </td></tr>\n",
       "\t<tr><td>100195    </td><td>  66686.59</td><td>  61180.30</td><td> -5506.29 </td></tr>\n",
       "\t<tr><td>100213    </td><td> 140561.06</td><td> 120648.95</td><td>-19912.11 </td></tr>\n",
       "\t<tr><td>100341    </td><td> 159148.96</td><td> 135981.29</td><td>-23167.67 </td></tr>\n",
       "\t<tr><td>100614    </td><td> 127053.92</td><td> 113389.36</td><td>-13664.56 </td></tr>\n",
       "\t<tr><td>100651    </td><td>2649961.02</td><td>2606917.19</td><td>-43043.83 </td></tr>\n",
       "\t<tr><td>100730    </td><td>  33667.32</td><td>   8964.01</td><td>-24703.31 </td></tr>\n",
       "\t<tr><td>100821    </td><td>  45374.00</td><td>  34647.40</td><td>-10726.60 </td></tr>\n",
       "</tbody>\n",
       "</table>\n"
      ],
      "text/latex": [
       "\\begin{tabular}{r|llll}\n",
       " a.accountno & spent & win & profit\\\\\n",
       "\\hline\n",
       "\t 100122     &  208397.56 &  203185.50 &  -5212.06 \\\\\n",
       "\t 100171     &  120230.00 &   78570.00 & -41660.00 \\\\\n",
       "\t 100183     &   68991.68 &   52839.85 & -16151.83 \\\\\n",
       "\t 100195     &   66686.59 &   61180.30 &  -5506.29 \\\\\n",
       "\t 100213     &  140561.06 &  120648.95 & -19912.11 \\\\\n",
       "\t 100341     &  159148.96 &  135981.29 & -23167.67 \\\\\n",
       "\t 100614     &  127053.92 &  113389.36 & -13664.56 \\\\\n",
       "\t 100651     & 2649961.02 & 2606917.19 & -43043.83 \\\\\n",
       "\t 100730     &   33667.32 &    8964.01 & -24703.31 \\\\\n",
       "\t 100821     &   45374.00 &   34647.40 & -10726.60 \\\\\n",
       "\\end{tabular}\n"
      ],
      "text/markdown": [
       "\n",
       "a.accountno | spent | win | profit | \n",
       "|---|---|---|---|---|---|---|---|---|---|\n",
       "| 100122     |  208397.56 |  203185.50 |  -5212.06  | \n",
       "| 100171     |  120230.00 |   78570.00 | -41660.00  | \n",
       "| 100183     |   68991.68 |   52839.85 | -16151.83  | \n",
       "| 100195     |   66686.59 |   61180.30 |  -5506.29  | \n",
       "| 100213     |  140561.06 |  120648.95 | -19912.11  | \n",
       "| 100341     |  159148.96 |  135981.29 | -23167.67  | \n",
       "| 100614     |  127053.92 |  113389.36 | -13664.56  | \n",
       "| 100651     | 2649961.02 | 2606917.19 | -43043.83  | \n",
       "| 100730     |   33667.32 |    8964.01 | -24703.31  | \n",
       "| 100821     |   45374.00 |   34647.40 | -10726.60  | \n",
       "\n",
       "\n"
      ],
      "text/plain": [
       "   a.accountno spent      win        profit   \n",
       "1  100122       208397.56  203185.50  -5212.06\n",
       "2  100171       120230.00   78570.00 -41660.00\n",
       "3  100183        68991.68   52839.85 -16151.83\n",
       "4  100195        66686.59   61180.30  -5506.29\n",
       "5  100213       140561.06  120648.95 -19912.11\n",
       "6  100341       159148.96  135981.29 -23167.67\n",
       "7  100614       127053.92  113389.36 -13664.56\n",
       "8  100651      2649961.02 2606917.19 -43043.83\n",
       "9  100730        33667.32    8964.01 -24703.31\n",
       "10 100821        45374.00   34647.40 -10726.60"
      ]
     },
     "metadata": {},
     "output_type": "display_data"
    }
   ],
   "source": [
    "head(total_spent, 10)"
   ]
  },
  {
   "cell_type": "code",
   "execution_count": 12,
   "metadata": {
    "collapsed": false
   },
   "outputs": [
    {
     "data": {
      "text/plain": [
       "\n",
       "FALSE  TRUE \n",
       " 1093   107 "
      ]
     },
     "metadata": {},
     "output_type": "display_data"
    }
   ],
   "source": [
    "table(total_spent$profit > 0)"
   ]
  },
  {
   "cell_type": "code",
   "execution_count": 13,
   "metadata": {
    "collapsed": false
   },
   "outputs": [],
   "source": [
    "library(reshape2)\n",
    "colnames(total_spent) = c('accountno', 'spent', 'win', 'profit')\n",
    "total_spent$accountno = factor(total_spent$accountno)\n",
    "total_spent_melt = melt(total_spent, id.vars = 'accountno')"
   ]
  },
  {
   "cell_type": "code",
   "execution_count": 14,
   "metadata": {
    "collapsed": false
   },
   "outputs": [
    {
     "data": {},
     "metadata": {},
     "output_type": "display_data"
    },
    {
     "data": {
      "image/png": "[encoded data removed]",
      "text/plain": [
       "plot without title"
      ]
     },
     "metadata": {},
     "output_type": "display_data"
    }
   ],
   "source": [
    "ggplot(total_spent_melt, aes(accountno, value)) +\n",
    "  geom_point(aes(color = variable)) +\n",
    "  theme_bw() +\n",
    "  theme(axis.text.x = element_blank())"
   ]
  },
  {
   "cell_type": "markdown",
   "metadata": {},
   "source": [
    "## Only around 10% of them profit!!!!!!!!!!!!!"
   ]
  },
  {
   "cell_type": "code",
   "execution_count": 15,
   "metadata": {
    "collapsed": false
   },
   "outputs": [
    {
     "name": "stderr",
     "output_type": "stream",
     "text": [
      "`stat_bin()` using `bins = 30`. Pick better value with `binwidth`.\n",
      "Warning message:\n",
      "\"Removed 2 rows containing non-finite values (stat_bin).\"Warning message:\n",
      "\"Removed 1 rows containing missing values (geom_bar).\""
     ]
    },
    {
     "data": {},
     "metadata": {},
     "output_type": "display_data"
    },
    {
     "data": {
      "image/png": "[encoded data removed]",
      "text/plain": [
       "plot without title"
      ]
     },
     "metadata": {},
     "output_type": "display_data"
    }
   ],
   "source": [
    "ggplot(total_spent, aes(profit)) +\n",
    "  geom_histogram(fill = 'lightblue', color = 'black') +\n",
    "  scale_x_continuous(labels = scales::comma, limits = c(-400000, 100000)) +\n",
    "  theme_bw() +\n",
    "  geom_abline(intercept = 0, color = 'red', lty = 2)"
   ]
  },
  {
   "cell_type": "markdown",
   "metadata": {},
   "source": [
    "### How does last day win affect today's betting?"
   ]
  },
  {
   "cell_type": "code",
   "execution_count": 6,
   "metadata": {
    "collapsed": false
   },
   "outputs": [
    {
     "data": {
      "text/html": [
       "-0.076545267791768"
      ],
      "text/latex": [
       "-0.076545267791768"
      ],
      "text/markdown": [
       "-0.076545267791768"
      ],
      "text/plain": [
       "[1] -0.07654527"
      ]
     },
     "metadata": {},
     "output_type": "display_data"
    }
   ],
   "source": [
    "# test on one customer first\n",
    "cust_payout$profit = cust_payout$payout_day - cust_payout$stake_day\n",
    "\n",
    "one_cust = subset(cust_payout, a.accountno == 100122)\n",
    "\n",
    "cor(one_cust$profit[1:164], one_cust$stake_day[2:165])"
   ]
  },
  {
   "cell_type": "markdown",
   "metadata": {},
   "source": [
    "## profit affects bet amount?"
   ]
  },
  {
   "cell_type": "markdown",
   "metadata": {},
   "source": [
    "### check if a customer win today affects the bet amount the next day ?"
   ]
  },
  {
   "cell_type": "code",
   "execution_count": 22,
   "metadata": {
    "collapsed": false
   },
   "outputs": [
    {
     "data": {},
     "metadata": {},
     "output_type": "display_data"
    },
    {
     "data": {
      "image/png": "[encoded data removed]",
      "text/plain": [
       "plot without title"
      ]
     },
     "metadata": {},
     "output_type": "display_data"
    }
   ],
   "source": [
    "# profit -> bet amount\n",
    "profit = one_cust$profit[1:164]\n",
    "amount = one_cust$stake_day[2:165]\n",
    "\n",
    "sq = c()\n",
    "for(i in 1:length(profit)){\n",
    "  sq = c(sq, profit[i], amount[i])\n",
    "}\n",
    "\n",
    "bet_seq = data.frame(day = 1:(2*length(profit)), value = sq, type = rep(c('profit', 'bet'), length(profit)))\n",
    "\n",
    "ggplot(bet_seq, aes(day, value)) +\n",
    "  geom_point(aes(color = type)) + theme_bw()\n",
    "# not strongly correlated"
   ]
  }
 ],
 "metadata": {
  "kernelspec": {
   "display_name": "R",
   "language": "R",
   "name": "ir"
  },
  "language_info": {
   "codemirror_mode": "r",
   "file_extension": ".r",
   "mimetype": "text/x-r-source",
   "name": "R",
   "pygments_lexer": "r",
   "version": "3.4.3"
  }
 },
 "nbformat": 4,
 "nbformat_minor": 0
}
